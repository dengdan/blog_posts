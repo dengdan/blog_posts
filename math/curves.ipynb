{
 "cells": [
  {
   "cell_type": "markdown",
   "metadata": {},
   "source": [
    "# 平面曲线: 圆"
   ]
  },
  {
   "cell_type": "code",
   "execution_count": 1,
   "metadata": {
    "collapsed": false
   },
   "outputs": [
    {
     "data": {
      "image/png": "[encoded data removed]",
      "text/plain": [
       "<matplotlib.figure.Figure at 0x7fa9f4673d10>"
      ]
     },
     "metadata": {},
     "output_type": "display_data"
    }
   ],
   "source": [
    "# 不加修饰画出来的图有点丑不说, 还变形\n",
    "import numpy as np;\n",
    "import matplotlib.pyplot as plt;\n",
    "%matplotlib inline\n",
    "\n",
    "# 与x轴的夹角\n",
    "alpha = np.linspace(0, 2*np.pi, 360);\n",
    "#半径\n",
    "r = 4;\n",
    "# 圆心\n",
    "cx = 2;\n",
    "cy = -2;\n",
    "\n",
    "\n",
    "# 画图\n",
    "def circle(alpha):\n",
    "    x = r * np.cos(alpha) + cx;\n",
    "    y = r * np.sin(alpha) + cy;\n",
    "    return (x, y);\n",
    "\n",
    "(x, y) = circle(alpha);\n",
    "plt.plot(x, y, '-');\n",
    "plt.savefig(\"./circle_raw.png\")"
   ]
  },
  {
   "cell_type": "code",
   "execution_count": 4,
   "metadata": {
    "collapsed": false
   },
   "outputs": [
    {
     "data": {
      "image/png": "[encoded data removed]",
      "text/plain": [
       "<matplotlib.figure.Figure at 0x7f1d7df29550>"
      ]
     },
     "metadata": {},
     "output_type": "display_data"
    }
   ],
   "source": [
    "import numpy as np;\n",
    "import matplotlib.pyplot as plt;\n",
    "%matplotlib inline\n",
    "\n",
    "# 与x轴的夹角\n",
    "alpha = np.linspace(0, 2*np.pi, 360);\n",
    "#半径\n",
    "r = 4;\n",
    "# 圆心\n",
    "cx = 2;\n",
    "cy = -2;\n",
    "\n",
    "\n",
    "# 调整图片大小与坐标范围, 防止画出来的圆变形\n",
    "plt.figure(figsize = (4,4));\n",
    "xlimstart = int(np.floor(cx - 1.2*r));\n",
    "xlimend = int(np.ceil(cx + 1.2*r));\n",
    "ylimstart = int(np.floor(cy - 1.2*r));\n",
    "ylimend = int(np.ceil(cy + 1.2*r));\n",
    "plt.xlim(xlimstart, xlimend);\n",
    "plt.ylim(ylimstart, ylimend);\n",
    "\n",
    "# 画图\n",
    "def circle(alpha):\n",
    "    x = r * np.cos(alpha) + cx;\n",
    "    y = r * np.sin(alpha) + cy;\n",
    "    return (x, y);\n",
    "\n",
    "(x, y) = circle(alpha);\n",
    "plt.plot(x, y, '-');\n",
    "\n",
    "\n",
    "# 去掉右边框与上边框\n",
    "ax = plt.gca();\n",
    "ax.spines['right'].set_color('none')\n",
    "ax.spines['top'].set_color('none')\n",
    "\n",
    "#设定标度文字相对于坐标轴的位置\n",
    "ax.xaxis.set_ticks_position('bottom');\n",
    "ax.yaxis.set_ticks_position('left');\n",
    "\n",
    "# 设定坐标轴位置: 最熟悉的原点十字.\n",
    "ax.spines['bottom'].set_position(('data',0))\n",
    "ax.spines['left'].set_position(('data',0))\n",
    "\n",
    "\n",
    "# 画出圆心\n",
    "plt.scatter([cx], [cy], 50,color = 'red');\n",
    "\n",
    "# 标出圆心位置\n",
    "## 画虚线\n",
    "plt.plot([cx, cx],[cy, 0], color ='green', linewidth=0.5, linestyle=\"-.\");\n",
    "plt.plot([cx, 0],[cy, cy], color ='green', linewidth=0.5, linestyle=\"-.\");\n",
    "## 显示坐标值\n",
    "xticks = range(xlimstart, xlimend, (xlimend-xlimstart)/5);\n",
    "yticks = range(ylimstart, ylimend, (ylimend-ylimstart)/5);\n",
    "\n",
    "## 加上圆心的坐标显示\n",
    "xticks.append(cx);\n",
    "yticks.append(cy);\n",
    "## 删除原点的坐标显示\n",
    "if(xticks.count(0)):xticks.remove(0);\n",
    "if(yticks.count(0)):yticks.remove(0);\n",
    "plt.xticks(xticks);\n",
    "plt.yticks(yticks);\n",
    "\n",
    "#画出半径\n",
    "plt.plot([cx, x[-20]],[cy, y[-20]]);\n",
    "#标注半径长度\n",
    "note = 'r={0}'.format(r);\n",
    "ax.annotate(note, xy=((x[-20]), (y[-20])), xycoords='data',\n",
    "                horizontalalignment='center', verticalalignment='center');\n",
    "\n",
    "plt.savefig(\"./circle.png\")"
   ]
  },
  {
   "cell_type": "markdown",
   "metadata": {},
   "source": [
    "# 空间曲线: 螺旋线"
   ]
  },
  {
   "cell_type": "code",
   "execution_count": null,
   "metadata": {
    "collapsed": false
   },
   "outputs": [],
   "source": [
    "import numpy as np\n",
    "import matplotlib.pyplot as plt\n",
    "from mpl_toolkits.mplot3d import Axes3D\n",
    "\n",
    "fig = plt.figure()\n",
    "ax = Axes3D(fig)\n",
    "\n",
    "t = np.linspace(-2, 5, 100)*np.pi;\n",
    "r = 1;\n",
    "x = r * np.cos(t);\n",
    "y = r * np.sin(t);\n",
    "z = t;\n",
    "ax.plot(x,y,z);\n",
    "plt.show()\n",
    "plt.savefig('./spiral.png')"
   ]
  },
  {
   "cell_type": "code",
   "execution_count": 14,
   "metadata": {
    "collapsed": false
   },
   "outputs": [
    {
     "data": {
      "text/plain": [
       "{'bottom': <matplotlib.spines.Spine at 0x7f1d580fcb90>,\n",
       " 'left': <matplotlib.spines.Spine at 0x7f1d580fc210>,\n",
       " 'right': <matplotlib.spines.Spine at 0x7f1d580fc190>,\n",
       " 'top': <matplotlib.spines.Spine at 0x7f1d580fca10>}"
      ]
     },
     "execution_count": 14,
     "metadata": {},
     "output_type": "execute_result"
    }
   ],
   "source": [
    "ax.spines"
   ]
  },
  {
   "cell_type": "code",
   "execution_count": null,
   "metadata": {
    "collapsed": true
   },
   "outputs": [],
   "source": []
  }
 ],
 "metadata": {
  "kernelspec": {
   "display_name": "Python 2",
   "language": "python",
   "name": "python2"
  },
  "language_info": {
   "codemirror_mode": {
    "name": "ipython",
    "version": 2
   },
   "file_extension": ".py",
   "mimetype": "text/x-python",
   "name": "python",
   "nbconvert_exporter": "python",
   "pygments_lexer": "ipython2",
   "version": "2.7.6"
  }
 },
 "nbformat": 4,
 "nbformat_minor": 0
}
