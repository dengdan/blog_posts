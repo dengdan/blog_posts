{
 "cells": [
  {
   "cell_type": "markdown",
   "metadata": {},
   "source": [
    "TFRecord是tensorflow使用的数据格式， 类似于caffe的imdb，mxnet的recordio。使用框架定义的数据格式好处是有强大的框架支持，例如封装了数据解析、多线程等操作， 使用起来方便。坏处主要是需要数据转换，要占用额外的空间。\n",
    "本文描述将pascal voc数据转换成tfrecord文件的过程，得到的tfrecord可用于训练。 代码主要参考  https://github.com/balancap/SSD-Tensorflow/blob/master/datasets/pascalvoc_to_tfrecords.py\n",
    "\n",
    "# 读取图片"
   ]
  },
  {
   "cell_type": "code",
   "execution_count": 8,
   "metadata": {},
   "outputs": [
    {
     "name": "stdout",
     "output_type": "stream",
     "text": [
      "<type 'str'>\n"
     ]
    }
   ],
   "source": [
    "import tensorflow as tf\n",
    "# path\n",
    "data_dir = '/home/dengdan/dataset_nfs/pascal-voc/voc2007trainval/VOCdevkit/VOC2007'\n",
    "image_idx = '008541'\n",
    "image_path = '%s/JPEGImages/%s.jpg'%(data_dir, image_idx)\n",
    "annotation_path = '%s/Annotations/%s.xml'%(data_dir, image_idx)\n",
    "# read file\n",
    "image_data = tf.gfile.FastGFile(image_path, 'r').read()\n",
    "print type(image_data)"
   ]
  },
  {
   "cell_type": "markdown",
   "metadata": {},
   "source": [
    "`tf.gfile.FastGFile(image_path, 'r').read()`读取图片数据并以字符串形式返回. 至于如何编码暂时不用关心， 因为解码的过程也是tf完成。\n",
    "# 读取annotation\n",
    "pascal voc的标注以xml格式的文件存在， 可使用`xml.etree.ElementTree`解析"
   ]
  },
  {
   "cell_type": "code",
   "execution_count": 26,
   "metadata": {},
   "outputs": [
    {
     "name": "stdout",
     "output_type": "stream",
     "text": [
      "[336, 500, 3]\n",
      "person\n",
      "person\n",
      "person\n",
      "person\n",
      "person\n"
     ]
    }
   ],
   "source": [
    "import xml.etree.ElementTree as ET\n",
    "tree = ET.parse(annotation_path)\n",
    "root = tree.getroot()\n",
    "size = root.find('size')\n",
    "shape = [int(size.find('height').text),\n",
    "         int(size.find('width').text),\n",
    "         int(size.find('depth').text)]\n",
    "print shape\n",
    "\n",
    "# Find annotations.\n",
    "bboxes = []\n",
    "labels = []\n",
    "labels_text = []\n",
    "difficult = []\n",
    "truncated = []\n",
    "for obj in root.findall('object'):\n",
    "    label = obj.find('name').text\n",
    "    print label\n",
    "    labels.append(1)#int(VOC_LABELS[label][0]) label对应的类别编号， 此处直接使用1， 没什么特殊含义。\n",
    "    labels_text.append(label.encode('ascii'))\n",
    "\n",
    "    if obj.find('difficult') is not None:\n",
    "        difficult.append(int(obj.find('difficult').text))\n",
    "    else:\n",
    "        difficult.append(0)\n",
    "    \n",
    "    if obj.find('truncated') is not None:\n",
    "        truncated.append(int(obj.find('truncated').text))\n",
    "    else:\n",
    "        truncated.append(0)\n",
    "\n",
    "    bbox = obj.find('bndbox')\n",
    "    bboxes.append((float(bbox.find('ymin').text) / shape[0],\n",
    "                   float(bbox.find('xmin').text) / shape[1],\n",
    "                   float(bbox.find('ymax').text) / shape[0],\n",
    "                   float(bbox.find('xmax').text) / shape[1]\n",
    "                   ))\n",
    "    "
   ]
  },
  {
   "cell_type": "markdown",
   "metadata": {},
   "source": [
    "# 将读取出来的数据转换成Example\n",
    "一个example就是一条record，它包含一张图片及其对应的标注，一个tfrecord文件中包含多个example。Example接口将输入的数据序列化，以定入tfrecord文件。\n",
    "`tf.train.Feature`的作用是指定数据格式转换的协议。"
   ]
  },
  {
   "cell_type": "code",
   "execution_count": 28,
   "metadata": {
    "collapsed": true
   },
   "outputs": [],
   "source": [
    "def int64_feature(value):\n",
    "    \"\"\"Wrapper for inserting int64 features into Example proto.\n",
    "    \"\"\"\n",
    "    if not isinstance(value, list):\n",
    "        value = [value]\n",
    "    return tf.train.Feature(int64_list=tf.train.Int64List(value=value))\n",
    "\n",
    "\n",
    "def float_feature(value):\n",
    "    \"\"\"Wrapper for inserting float features into Example proto.\n",
    "    \"\"\"\n",
    "    if not isinstance(value, list):\n",
    "        value = [value]\n",
    "    return tf.train.Feature(float_list=tf.train.FloatList(value=value))\n",
    "\n",
    "\n",
    "def bytes_feature(value):\n",
    "    \"\"\"Wrapper for inserting bytes features into Example proto.\n",
    "    \"\"\"\n",
    "    if not isinstance(value, list):\n",
    "        value = [value]\n",
    "    return tf.train.Feature(bytes_list=tf.train.BytesList(value=value))\n",
    "\n",
    "def _convert_to_example(image_data, labels, labels_text, bboxes, shape,\n",
    "                        difficult, truncated):\n",
    "    \"\"\"Build an Example proto for an image example.\n",
    "\n",
    "    Args:\n",
    "      image_data: string, JPEG encoding of RGB image;\n",
    "      labels: list of integers, identifier for the ground truth;\n",
    "      labels_text: list of strings, human-readable labels;\n",
    "      bboxes: list of bounding boxes; each box is a list of integers;\n",
    "          specifying [xmin, ymin, xmax, ymax]. All boxes are assumed to belong\n",
    "          to the same label as the image label.\n",
    "      shape: 3 integers, image shapes in pixels.\n",
    "    Returns:\n",
    "      Example proto\n",
    "    \"\"\"\n",
    "    xmin = []\n",
    "    ymin = []\n",
    "    xmax = []\n",
    "    ymax = []\n",
    "    for b in bboxes:\n",
    "        assert len(b) == 4\n",
    "        # pylint: disable=expression-not-assigned\n",
    "        [l.append(point) for l, point in zip([ymin, xmin, ymax, xmax], b)]\n",
    "        # pylint: enable=expression-not-assigned\n",
    "\n",
    "    image_format = b'JPEG'\n",
    "    example = tf.train.Example(features=tf.train.Features(feature={\n",
    "            'image/height': int64_feature(shape[0]),\n",
    "            'image/width': int64_feature(shape[1]),\n",
    "            'image/channels': int64_feature(shape[2]),\n",
    "            'image/shape': int64_feature(shape),\n",
    "            'image/object/bbox/xmin': float_feature(xmin),\n",
    "            'image/object/bbox/xmax': float_feature(xmax),\n",
    "            'image/object/bbox/ymin': float_feature(ymin),\n",
    "            'image/object/bbox/ymax': float_feature(ymax),\n",
    "            'image/object/bbox/label': int64_feature(labels),\n",
    "            'image/object/bbox/label_text': bytes_feature(labels_text),\n",
    "            'image/object/bbox/difficult': int64_feature(difficult),\n",
    "            'image/object/bbox/truncated': int64_feature(truncated),\n",
    "            'image/format': bytes_feature(image_format),\n",
    "            'image/encoded': bytes_feature(image_data)}))\n",
    "    return example"
   ]
  },
  {
   "cell_type": "markdown",
   "metadata": {},
   "source": [
    "# 将Example写入文件\n",
    "将Example写入tfrecord文件是通过`tf.python_io.TFRecordWriter`完成的。"
   ]
  },
  {
   "cell_type": "code",
   "execution_count": 33,
   "metadata": {
    "collapsed": true
   },
   "outputs": [],
   "source": [
    "tf_filename = 'pascal_train_1.tfrecord'\n",
    "tfrecord_writer = tf.python_io.TFRecordWriter(tf_filename)\n",
    "example = _convert_to_example(image_data, labels, labels_text,  bboxes, shape, difficult, truncated)\n",
    "tfrecord_writer.write(example.SerializeToString())"
   ]
  },
  {
   "cell_type": "code",
   "execution_count": 31,
   "metadata": {},
   "outputs": [
    {
     "name": "stdout",
     "output_type": "stream",
     "text": [
      "TF Core.ipynb\t      Untitled.ipynb   pascal_train.tfrecord\r\n",
      "TFRecord.ipynb\t      Untitled1.ipynb  path_to_file\r\n",
      "TFRecordDecode.ipynb  Variables.ipynb  test.py\r\n"
     ]
    }
   ],
   "source": [
    "!ls"
   ]
  },
  {
   "cell_type": "code",
   "execution_count": null,
   "metadata": {
    "collapsed": true
   },
   "outputs": [],
   "source": []
  }
 ],
 "metadata": {
  "kernelspec": {
   "display_name": "Python 2",
   "language": "python",
   "name": "python2"
  },
  "language_info": {
   "codemirror_mode": {
    "name": "ipython",
    "version": 2
   },
   "file_extension": ".py",
   "mimetype": "text/x-python",
   "name": "python",
   "nbconvert_exporter": "python",
   "pygments_lexer": "ipython2",
   "version": "2.7.9"
  }
 },
 "nbformat": 4,
 "nbformat_minor": 2
}
