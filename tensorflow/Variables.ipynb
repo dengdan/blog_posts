{
 "cells": [
  {
   "cell_type": "markdown",
   "metadata": {},
   "source": [
    "https://www.tensorflow.org/programmers_guide/variables\n",
    "# Variable\n",
    "变量，通常用于表示和存储模型的参数，使用接口`tf.Variable`类来定义。 它有以下几个特点：\n",
    "1. 使用前必须显示初始化\n",
    "2. 值可以变， 但shape一般不能变。除非`validate_shape = False`\n",
    "3. 从物理结构上讲， 它在内存中就是一段缓存，里面存储着一个tensor\n",
    "4. 它可以被保存到硬盘上\n",
    "\n",
    "# 创建Variable\n",
    "创建Variable时必须提供初始值，这个初始值可以是list， numpy array或另一个tf tensor"
   ]
  },
  {
   "cell_type": "code",
   "execution_count": 2,
   "metadata": {
    "collapsed": true
   },
   "outputs": [],
   "source": [
    "import tensorflow as tf\n",
    "import numpy as np\n",
    "a = tf.Variable([1, 1, 1], name = 'a')\n",
    "b = tf.Variable(np.ones((1, 3)), name = 'b')\n",
    "c = tf.Variable(tf.ones(1, 3), name = 'c')"
   ]
  },
  {
   "cell_type": "markdown",
   "metadata": {},
   "source": [
    "# 指定device\n",
    "在创建变量时可以指定变量存储的设备\n",
    "> Operations that mutate a variable, such as tf.Variable.assign and the parameter update operations in a tf.train.Optimizer must run on the same device as the variable. Incompatible device placement directives will be ignored when creating these operations\n",
    "> TODO"
   ]
  },
  {
   "cell_type": "code",
   "execution_count": 10,
   "metadata": {},
   "outputs": [],
   "source": [
    "with tf.device('/cpu:0'):\n",
    "    d = tf.Variable([1] * 3, name = 'd')\n",
    "\n",
    "with tf.device('/gpu:0'):\n",
    "    e = tf.Variable([1] * 3, name = 'e')\n"
   ]
  },
  {
   "cell_type": "markdown",
   "metadata": {},
   "source": [
    "# 初始化\n",
    "创建Variable时需要指定它的初始值， 但这个操作并没有真正执行初始操作。 初始化操作由初始化操作子(initialization operator)完成.\n",
    "**在run graph之前必须执行初始化操作。**"
   ]
  },
  {
   "cell_type": "code",
   "execution_count": null,
   "metadata": {
    "scrolled": false
   },
   "outputs": [],
   "source": [
    "init_op = tf.global_variables_initializer()\n",
    "with tf.Session() as sess:\n",
    "    sess.run(init_op)\n",
    "    print e.eval()"
   ]
  },
  {
   "cell_type": "markdown",
   "metadata": {},
   "source": [
    "如果在执行上面的代码时报`Could not satisfy explicit device specification '/device:GPU:0' because no supported kernel for GPU devices is available`， 则使用下面的代码。原因还没仔细去看， 这个问题在github上有人提到过https://github.com/tensorflow/tensorflow/issues/2292 。"
   ]
  },
  {
   "cell_type": "code",
   "execution_count": 14,
   "metadata": {},
   "outputs": [
    {
     "name": "stdout",
     "output_type": "stream",
     "text": [
      "[1 1 1]\n"
     ]
    }
   ],
   "source": [
    "init_op = tf.global_variables_initializer()\n",
    "config = tf.ConfigProto(allow_soft_placement = True)\n",
    "with tf.Session(config = config) as sess:\n",
    "    sess.run(init_op)\n",
    "    print e.eval()"
   ]
  },
  {
   "cell_type": "markdown",
   "metadata": {},
   "source": [
    "一个Variable可以使用另一个Variable作为它的初始值"
   ]
  },
  {
   "cell_type": "code",
   "execution_count": 19,
   "metadata": {},
   "outputs": [],
   "source": [
    "w = tf.Variable(tf.random_normal([100, 100], stddev = 1))\n",
    "w2 = tf.Variable(w.initialized_value() * 2)"
   ]
  },
  {
   "cell_type": "markdown",
   "metadata": {},
   "source": [
    "# 保存和加载\n",
    "使用`tf.train.Saver`保存和加载Variables。\n",
    "## 保存"
   ]
  },
  {
   "cell_type": "code",
   "execution_count": 1,
   "metadata": {},
   "outputs": [],
   "source": [
    "import tensorflow as tf\n",
    "weights = tf.Variable(tf.random_normal([2, 2], stddev = 1), name = 'weights')\n",
    "bias = tf.Variable(tf.zeros([2, 1]), name = 'bias')\n",
    "init_op = tf.global_variables_initializer()\n",
    "saver = tf.train.Saver()\n",
    "config = tf.ConfigProto(allow_soft_placement = True)\n",
    "with tf.Session(config = config) as sess:\n",
    "    sess.run(init_op)\n",
    "    saver.save(sess, '/tmp/model.ckpt')"
   ]
  },
  {
   "cell_type": "markdown",
   "metadata": {},
   "source": [
    "## 加载\n"
   ]
  },
  {
   "cell_type": "code",
   "execution_count": 1,
   "metadata": {},
   "outputs": [
    {
     "name": "stdout",
     "output_type": "stream",
     "text": [
      "[[ 0.]\n",
      " [ 0.]]\n"
     ]
    }
   ],
   "source": [
    "import tensorflow as tf\n",
    "weights = tf.Variable(tf.random_normal([2, 2], stddev = 1), name = 'weights')\n",
    "bias = tf.Variable(tf.zeros([2, 1]), name = 'bias')\n",
    "\n",
    "saver = tf.train.Saver()\n",
    "config = tf.ConfigProto(allow_soft_placement = True)\n",
    "with tf.Session(config = config) as sess:\n",
    "    saver.restore(sess, '/tmp/model.ckpt')\n",
    "    print bias.eval()"
   ]
  },
  {
   "cell_type": "markdown",
   "metadata": {},
   "source": [
    "创建`Saver`时， 可以指定保存/加载哪些参数， 及以什么名字保存/从什么变量加载"
   ]
  },
  {
   "cell_type": "code",
   "execution_count": 4,
   "metadata": {},
   "outputs": [],
   "source": [
    "import tensorflow as tf\n",
    "weights = tf.Variable(tf.random_normal([2, 2], stddev = 1), name = 'weights')\n",
    "bias = tf.Variable(tf.zeros([2, 1]), name = 'bias')\n",
    "init_op = tf.global_variables_initializer()\n",
    "saver = tf.train.Saver({'w':weights})\n",
    "config = tf.ConfigProto(allow_soft_placement = True)\n",
    "with tf.Session(config = config) as sess:\n",
    "    sess.run(init_op)\n",
    "    saver.save(sess, '/tmp/model.ckpt')"
   ]
  },
  {
   "cell_type": "code",
   "execution_count": 7,
   "metadata": {},
   "outputs": [
    {
     "name": "stdout",
     "output_type": "stream",
     "text": [
      "[[ 0.]\n",
      " [ 0.]]\n",
      "(2, 2)\n"
     ]
    }
   ],
   "source": [
    "import tensorflow as tf\n",
    "weights = tf.Variable(tf.random_normal([2, 2], stddev = 1), name = 'weights')\n",
    "bias = tf.Variable(tf.zeros([2, 1]), name = 'bias')\n",
    "\n",
    "saver = tf.train.Saver({'w': weights})\n",
    "config = tf.ConfigProto(allow_soft_placement = True)\n",
    "init_op = tf.global_variables_initializer()\n",
    "with tf.Session(config = config) as sess:\n",
    "    sess.run(init_op)\n",
    "    saver.restore(sess, '/tmp/model.ckpt')\n",
    "    print bias.eval()\n",
    "    print weights.eval().shape"
   ]
  },
  {
   "cell_type": "markdown",
   "metadata": {},
   "source": [
    "若是所有参数都被restored， 就不用`sess.run(init_op)`了。但这里`bias`没有restore, 所以还需要`sess.run(init_op)`"
   ]
  }
 ],
 "metadata": {
  "kernelspec": {
   "display_name": "Python 2",
   "language": "python",
   "name": "python2"
  },
  "language_info": {
   "codemirror_mode": {
    "name": "ipython",
    "version": 2
   },
   "file_extension": ".py",
   "mimetype": "text/x-python",
   "name": "python",
   "nbconvert_exporter": "python",
   "pygments_lexer": "ipython2",
   "version": "2.7.9"
  }
 },
 "nbformat": 4,
 "nbformat_minor": 2
}
