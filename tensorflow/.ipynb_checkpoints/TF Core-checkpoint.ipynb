{
 "cells": [
  {
   "cell_type": "markdown",
   "metadata": {},
   "source": [
    "# Tensor\n",
    "Tensor， 张量，广义的矩阵，直白点就是多维数组。deep learning的计算过程抽象的讲就是tensor的流动过程：input tensor从一层层的layer流过，到最后变成output。这也是tensorflow的名字由来。\n",
    "\n",
    "# Computational Graph\n",
    "计算图。将计算过程自成一个有向graph， graph的每个结点代表一个值（tensor或scalar）或一种操作。按官方文档的说法，tf编程的过程大体可以分为两步：\n",
    "1. 建立graph\n",
    "2. 运行graph\n",
    "\n",
    "# Session\n",
    "会话。 graph的运行由session控制。"
   ]
  },
  {
   "cell_type": "code",
   "execution_count": 1,
   "metadata": {
    "collapsed": false
   },
   "outputs": [
    {
     "name": "stdout",
     "output_type": "stream",
     "text": [
      "[22]\n"
     ]
    }
   ],
   "source": [
    "import tensorflow as tf\n",
    "\n",
    "#build graph\n",
    "a = tf.constant(2)\n",
    "b = tf.placeholder(tf.int32)\n",
    "c = a + b;\n",
    "\n",
    "# run graph\n",
    "with tf.Session() as sess:\n",
    "    c_val = sess.run([c], feed_dict = {b:20})\n",
    "    print c_val"
   ]
  },
  {
   "cell_type": "markdown",
   "metadata": {},
   "source": [
    "# 三种常用的常量/变量节点\n",
    "* `tf.constant`\n",
    "\n",
    "常量节点， 值不可变\n",
    "\n",
    "* `tf.placeholder`\n",
    "```\n",
    "placeholder(\n",
    "    dtype,\n",
    "    shape=None,\n",
    "    name=None\n",
    ")\n",
    "```\n",
    "占位符节点， 值也不可变。模型的输入通常使用`placeholder`。详见https://www.tensorflow.org/api_docs/python/tf/placeholder\n",
    "\n",
    "* `tf.Variable`\n",
    "\n",
    "变量节点， 值可变。 模型参数（如weight/bias）通常使用`Varialble`\n",
    "```\n",
    "Variable(<initial-value>, name=<optional-name>)\n",
    "```\n",
    "创建Variable时必须指定初始值，这个初始值决定Variable的shape与dtype。详见https://www.tensorflow.org/api_docs/python/tf/Variable\n"
   ]
  },
  {
   "cell_type": "markdown",
   "metadata": {},
   "source": [
    "# 以线性回归为例\n",
    "来自官网的例子 https://www.tensorflow.org/get_started/get_started\n",
    "## build graph"
   ]
  },
  {
   "cell_type": "code",
   "execution_count": 6,
   "metadata": {
    "collapsed": true
   },
   "outputs": [],
   "source": [
    "# input\n",
    "x = tf.placeholder(tf.float32)\n",
    "y = tf.placeholder(tf.float32)\n",
    "\n",
    "# parameters\n",
    "W = tf.Variable([.3], tf.float32)\n",
    "b = tf.Variable([-.3], tf.float32)\n",
    "\n",
    "#output\n",
    "linear_model = W * x + b\n",
    "\n",
    "# loss\n",
    "squared_deltas = tf.square(linear_model - y)\n",
    "loss = tf.reduce_sum(squared_deltas)\n",
    "\n",
    "# SGD\n",
    "optimizer = tf.train.GradientDescentOptimizer(0.01)\n",
    "train = optimizer.minimize(loss)"
   ]
  },
  {
   "cell_type": "markdown",
   "metadata": {},
   "source": [
    "## run graph"
   ]
  },
  {
   "cell_type": "code",
   "execution_count": 11,
   "metadata": {
    "collapsed": false
   },
   "outputs": [
    {
     "name": "stdout",
     "output_type": "stream",
     "text": [
      "Iteration 0, W: [ 0.30000001], b: [-0.30000001], loss: 23.66\n",
      "Iteration 200, W: [-0.99566007], b: [ 0.98724014], loss: 0.000108768\n",
      "Iteration 400, W: [-0.99996454], b: [ 0.99989575], loss: 7.26898e-09\n",
      "Iteration 600, W: [-0.99999911], b: [ 0.99999744], loss: 4.20641e-12\n",
      "Iteration 800, W: [-0.99999911], b: [ 0.99999744], loss: 4.20641e-12\n"
     ]
    }
   ],
   "source": [
    "# training data\n",
    "x_train = [1,2,3,4]\n",
    "y_train = [0,-1,-2,-3]\n",
    "\n",
    "# training loop\n",
    "init = tf.global_variables_initializer()\n",
    "sess = tf.Session()\n",
    "sess.run(init) # reset values to wrong\n",
    "for i in range(1000):\n",
    "    _, curr_W, curr_b, curr_loss  = sess.run([train, W, b, loss], {x:x_train, y:y_train})\n",
    "    if i %200 == 0:\n",
    "        print(\"Iteration %d, W: %s, b: %s, loss: %s\"%(i, curr_W, curr_b, curr_loss))\n",
    "    else:\n",
    "        sess.run(train, {x:x_train, y:y_train})"
   ]
  },
  {
   "cell_type": "code",
   "execution_count": null,
   "metadata": {
    "collapsed": true
   },
   "outputs": [],
   "source": []
  }
 ],
 "metadata": {
  "kernelspec": {
   "display_name": "Python 2",
   "language": "python",
   "name": "python2"
  },
  "language_info": {
   "codemirror_mode": {
    "name": "ipython",
    "version": 2
   },
   "file_extension": ".py",
   "mimetype": "text/x-python",
   "name": "python",
   "nbconvert_exporter": "python",
   "pygments_lexer": "ipython2",
   "version": "2.7.10"
  }
 },
 "nbformat": 4,
 "nbformat_minor": 0
}
