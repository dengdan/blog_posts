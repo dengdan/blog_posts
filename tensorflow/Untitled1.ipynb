{
 "cells": [
  {
   "cell_type": "markdown",
   "metadata": {},
   "source": [
    "# Scope与Share机制\n",
    "tensorflow 引入了namespace机制， 也就是scope， 可以方便地命名、共享变量. 当需要共享变量时， 创建变量使用`tf.get_variable`方法而不是`tf.Variable`. "
   ]
  },
  {
   "cell_type": "code",
   "execution_count": 1,
   "metadata": {},
   "outputs": [
    {
     "name": "stdout",
     "output_type": "stream",
     "text": [
      "foo/v1:0\n",
      "foo/v1:0\n"
     ]
    }
   ],
   "source": [
    "import tensorflow as tf\n",
    "with tf.variable_scope('foo'):\n",
    "    v1 = tf.get_variable('v1', [1])\n",
    "    print v1.name\n",
    "with tf.variable_scope('foo', reuse = True):\n",
    "    v2 = tf.get_variable('v1')\n",
    "    #v3 = tf.get_variable('v3', [3]) 会报错\n",
    "    print v2.name\n",
    "\n",
    "assert v2 is v1"
   ]
  },
  {
   "cell_type": "markdown",
   "metadata": {},
   "source": [
    "* 一个scope对应一个namespace，当在scope里创建任意有name的东西时， 它的name为： `scope_name/var_name`\n",
    "\n",
    "* `reuse = True`不可少。它是`variable_scope`的一个属性， 直接决定如何创建变量。\n",
    "    * `reuse = False`时， 先检查是否已经存在相同name的Variable， 如果有， 报错。然后以对应name创建一个新的Variable\n",
    "    * `reuse = True`时，不会创建新的Variable。直接查找自己name对应的variable， 如果没有， 则报错。\n",
    "\n",
    "* `reuse`属性可继承：在`reuse = True`的scope里创建子scope时， 子scope的`reuse==True`\n"
   ]
  },
  {
   "cell_type": "code",
   "execution_count": 4,
   "metadata": {},
   "outputs": [
    {
     "name": "stdout",
     "output_type": "stream",
     "text": [
      "True\n",
      "True\n"
     ]
    }
   ],
   "source": [
    "import tensorflow as tf\n",
    "with tf.variable_scope('foo', reuse = True) as foo:\n",
    "    print foo.reuse\n",
    "    with tf.variable_scope('doo') as doo:\n",
    "        print doo.reuse"
   ]
  },
  {
   "cell_type": "markdown",
   "metadata": {},
   "source": [
    "# variable_scope与name_scope\n",
    "不大清楚为什么要分这两种。它们在效果上的区别是`variable_scope`会影响它内部创建的所有有name属性的节点， 但`name_scope`只影响Operator节点的命名"
   ]
  },
  {
   "cell_type": "code",
   "execution_count": 2,
   "metadata": {},
   "outputs": [
    {
     "name": "stdout",
     "output_type": "stream",
     "text": [
      "foo/a:0\n",
      "foo_2/ns/add:0\n",
      "foo_2/ns/add\n"
     ]
    }
   ],
   "source": [
    "import tensorflow as tf\n",
    "with tf.variable_scope('foo'):\n",
    "    with tf.name_scope('ns'):\n",
    "        a = tf.get_variable('a', [1])\n",
    "        b = a + 1;\n",
    "        print a.name\n",
    "        print b.name\n",
    "        print b.op.name"
   ]
  },
  {
   "cell_type": "markdown",
   "metadata": {},
   "source": [
    "# 为variable_scope指定默认的initializer\n",
    "为variable_scope指定默认initializer的好处是不用在每次调用创建变量的方法时传入初始值了。它也是可以继承的。"
   ]
  },
  {
   "cell_type": "code",
   "execution_count": 1,
   "metadata": {},
   "outputs": [
    {
     "name": "stdout",
     "output_type": "stream",
     "text": [
      "[ 0.2]\n",
      "[ 0.2]\n",
      "[ 0.1]\n"
     ]
    }
   ],
   "source": [
    "import tensorflow as tf\n",
    "def show(v):\n",
    "    with tf.Session() as sess:\n",
    "        init = tf.global_variables_initializer()\n",
    "        sess.run(init)\n",
    "        print v.eval()\n",
    "        \n",
    "with tf.variable_scope('foo', initializer = tf.constant_initializer(0.2)):\n",
    "    cv1 = tf.get_variable('cv1', [1])\n",
    "    show(cv1)\n",
    "    \n",
    "    with tf.variable_scope('sub_foo'):\n",
    "        cv2 = tf.get_variable('cv2', [1])\n",
    "        show(cv2)\n",
    "        \n",
    "        with tf.variable_scope('sub_sub_foo', initializer = tf.constant_initializer(0.1)):\n",
    "            cv3 = tf.get_variable('cv3', [1])\n",
    "            show(cv3)"
   ]
  },
  {
   "cell_type": "code",
   "execution_count": null,
   "metadata": {
    "collapsed": true
   },
   "outputs": [],
   "source": []
  }
 ],
 "metadata": {
  "kernelspec": {
   "display_name": "Python 2",
   "language": "python",
   "name": "python2"
  },
  "language_info": {
   "codemirror_mode": {
    "name": "ipython",
    "version": 2
   },
   "file_extension": ".py",
   "mimetype": "text/x-python",
   "name": "python",
   "nbconvert_exporter": "python",
   "pygments_lexer": "ipython2",
   "version": "2.7.9"
  }
 },
 "nbformat": 4,
 "nbformat_minor": 2
}
