{
 "cells": [
  {
   "cell_type": "markdown",
   "metadata": {},
   "source": [
    "http://blog.csdn.net/weixin_35653315/article/details/71015845 中描述了将pascal voc数据集转换tfrecord的过程。本文则通过slim来读取生成的tfrecord。读取和解码操作由`tf.TFRecordReader`完成"
   ]
  },
  {
   "cell_type": "code",
   "execution_count": 1,
   "metadata": {},
   "outputs": [
    {
     "name": "stdout",
     "output_type": "stream",
     "text": [
      "<class 'tensorflow.python.framework.ops.Tensor'>\n",
      "(?, ?, 3)\n"
     ]
    }
   ],
   "source": [
    "import tensorflow as tf\n",
    "slim = tf.contrib.slim\n",
    "file_pattern = './pascal_train_*.tfrecord' #文件名格式\n",
    "\n",
    "# 适配器1：将example反序列化成存储之前的格式。由tf完成\n",
    "keys_to_features = {\n",
    "    'image/encoded': tf.FixedLenFeature((), tf.string, default_value=''),\n",
    "    'image/format': tf.FixedLenFeature((), tf.string, default_value='jpeg'),\n",
    "    'image/height': tf.FixedLenFeature([1], tf.int64),\n",
    "    'image/width': tf.FixedLenFeature([1], tf.int64),\n",
    "    'image/channels': tf.FixedLenFeature([1], tf.int64),\n",
    "    'image/shape': tf.FixedLenFeature([3], tf.int64),\n",
    "    'image/object/bbox/xmin': tf.VarLenFeature(dtype=tf.float32),\n",
    "    'image/object/bbox/ymin': tf.VarLenFeature(dtype=tf.float32),\n",
    "    'image/object/bbox/xmax': tf.VarLenFeature(dtype=tf.float32),\n",
    "    'image/object/bbox/ymax': tf.VarLenFeature(dtype=tf.float32),\n",
    "    'image/object/bbox/label': tf.VarLenFeature(dtype=tf.int64),\n",
    "    'image/object/bbox/difficult': tf.VarLenFeature(dtype=tf.int64),\n",
    "    'image/object/bbox/truncated': tf.VarLenFeature(dtype=tf.int64),\n",
    "}\n",
    "\n",
    "#适配器2：将反序列化的数据组装成更高级的格式。由slim完成\n",
    "items_to_handlers = {\n",
    "    'image': slim.tfexample_decoder.Image('image/encoded', 'image/format'),\n",
    "    'shape': slim.tfexample_decoder.Tensor('image/shape'),\n",
    "    'object/bbox': slim.tfexample_decoder.BoundingBox(\n",
    "            ['ymin', 'xmin', 'ymax', 'xmax'], 'image/object/bbox/'),\n",
    "    'object/label': slim.tfexample_decoder.Tensor('image/object/bbox/label'),\n",
    "    'object/difficult': slim.tfexample_decoder.Tensor('image/object/bbox/difficult'),\n",
    "    'object/truncated': slim.tfexample_decoder.Tensor('image/object/bbox/truncated'),\n",
    "}\n",
    "\n",
    "# 解码器\n",
    "decoder = slim.tfexample_decoder.TFExampleDecoder(keys_to_features, items_to_handlers)\n",
    "\n",
    "# dataset对象负责数据的读取和解码\n",
    "dataset = slim.dataset.Dataset(\n",
    "            data_sources=file_pattern,\n",
    "            reader=tf.TFRecordReader,\n",
    "            num_samples = 3, # 手动生成了三个文件， 每个文件里只包含一个example\n",
    "            decoder=decoder,\n",
    "            items_to_descriptions = {},\n",
    "            num_classes=21)\n",
    "\n",
    "#provider对象负责多线程\n",
    "provider = slim.dataset_data_provider.DatasetDataProvider(\n",
    "                    dataset,\n",
    "                    num_readers=3,\n",
    "                    common_queue_capacity=20,\n",
    "                    common_queue_min=10,\n",
    "                    shuffle=True)\n",
    "\n",
    "[image, shape, glabels, gbboxes] = provider.get(['image', 'shape',\n",
    "                                                             'object/label',\n",
    "                                                             'object/bbox'])\n",
    "print type(image)\n",
    "print image.shape"
   ]
  },
  {
   "cell_type": "markdown",
   "metadata": {},
   "source": [
    "到目前为止，返回的image是一个tensor，而且是一个3维的，一次只有一张。先来看看读取出来的图片。"
   ]
  },
  {
   "cell_type": "code",
   "execution_count": null,
   "metadata": {
    "collapsed": true
   },
   "outputs": [],
   "source": [
    "with tf.Session() as sess:\n",
    "    img = sess.run([image])\n",
    "    print img.shape"
   ]
  },
  {
   "cell_type": "code",
   "execution_count": null,
   "metadata": {
    "collapsed": true
   },
   "outputs": [],
   "source": []
  }
 ],
 "metadata": {
  "kernelspec": {
   "display_name": "Python 2",
   "language": "python",
   "name": "python2"
  },
  "language_info": {
   "codemirror_mode": {
    "name": "ipython",
    "version": 2
   },
   "file_extension": ".py",
   "mimetype": "text/x-python",
   "name": "python",
   "nbconvert_exporter": "python",
   "pygments_lexer": "ipython2",
   "version": "2.7.9"
  }
 },
 "nbformat": 4,
 "nbformat_minor": 2
}
